{"nbformat":4,"nbformat_minor":0,"metadata":{"colab":{"name":"Projeto_174931.ipynb","provenance":[],"authorship_tag":"ABX9TyP2nTrwrqlcQo/wF1QnAmw/"},"kernelspec":{"name":"python3","display_name":"Python 3"},"language_info":{"name":"python"}},"cells":[{"cell_type":"code","execution_count":null,"metadata":{"id":"cA0ZRF2a_WLt"},"outputs":[],"source":[""]}]}

from PIL import Image

img_1 = Image.open('/content/imagens_sat/V2_PNOVA2_DPSRI-H030-R1000-dBR_2015021921400500dBR.png')
imgred_1 = img_1.resize((100,100))
imgred_1.save('sat_1.png')
#print(imgred_1.size)
display(imgred_1)
#display(img_1)
img_2 = Image.open('/content/imagens_sat/V2_PNOVA2_DPSRI-H030-R1000-dBR_2015051023250300dBR.png')
imgred_2 = img_2.resize((100,100))
imgred_2.save('sat_2.png')
#print(imgred_1.size)
display(imgred_2)
#display(img_1)
img_3 = Image.open('/content/imagens_sat/V2_PNOVA2_DPSRI-H030-R1000-dBR_2015111921050400dBR.png')
imgred_3 = img_3.resize((100,100))
imgred_3.save('sat_3.png')
#print(imgred_1.size)
display(imgred_3)
#display(img_1)
img_4 = Image.open('/content/imagens_sat/V2_PNOVA2_DPSRI-H030-R1000-dBR_2016021920400400dBR.png')
imgred_4 = img_4.resize((100,100))
imgred_4.save('sat_4.png')
#print(imgred_1.size)
display(imgred_4)
#display(img_1)
img_5 = Image.open('/content/imagens_sat/V2_PNOVA2_DPSRI-H030-R1000-dBR_2017120202350400dBR.png')
imgred_5 = img_5.resize((100,100))
imgred_5.save('sat_5.png')
#print(imgred_1.size)
display(imgred_5)
#display(img_1)
img_6 = Image.open('/content/imagens_sat/V2_PNOVA2_DPSRI-H030-R1000-dBR_2017120722150300dBR.png')
imgred_6 = img_6.resize((100,100))
imgred_6.save('sat_6.png')
#print(imgred_1.size)
display(imgred_6)
#display(img_1)
img_7 = Image.open('/content/imagens_sat/V2_PNOVA2_DPSRI-H030-R1000-dBR_2018011121100400dBR.png')
imgred_7 = img_7.resize((100,100))
imgred_7.save('sat_7.png')
#print(imgred_1.size)
display(imgred_7)
#display(img_1)
img_8 = Image.open('/content/imagens_sat/V2_PNOVA2_DPSRI-H030-R1000-dBR_2019041404595600dBR.png')
imgred_8 = img_8.resize((100,100))
imgred_8.save('sat_8.png')
#print(imgred_1.size)
display(imgred_8)
#display(img_1)


# Estabelecer um limite para redimensionar a imagem, atualmente a análise é prejudicada para valores
#menores ou iguais a (100, 100); 
# Sistema GIS 'lite' para trabalhos futuros;
# Dificuldades encontradas: redimensionar múltiplas imagens ao mesmo tempo.
# etc.






